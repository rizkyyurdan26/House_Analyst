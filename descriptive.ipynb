{
 "cells": [
  {
   "cell_type": "markdown",
   "metadata": {},
   "source": [
    "# Descriptive Analyst\n"
   ]
  },
  {
   "cell_type": "markdown",
   "metadata": {},
   "source": [
    "Get data from mysql"
   ]
  },
  {
   "cell_type": "code",
   "execution_count": 5,
   "metadata": {},
   "outputs": [
    {
     "data": {
      "text/html": [
       "<div>\n",
       "<style scoped>\n",
       "    .dataframe tbody tr th:only-of-type {\n",
       "        vertical-align: middle;\n",
       "    }\n",
       "\n",
       "    .dataframe tbody tr th {\n",
       "        vertical-align: top;\n",
       "    }\n",
       "\n",
       "    .dataframe thead th {\n",
       "        text-align: right;\n",
       "    }\n",
       "</style>\n",
       "<table border=\"1\" class=\"dataframe\">\n",
       "  <thead>\n",
       "    <tr style=\"text-align: right;\">\n",
       "      <th></th>\n",
       "      <th>description</th>\n",
       "      <th>price</th>\n",
       "      <th>buildingArea</th>\n",
       "      <th>landArea</th>\n",
       "      <th>bedroom</th>\n",
       "      <th>bathroom</th>\n",
       "      <th>garage</th>\n",
       "    </tr>\n",
       "  </thead>\n",
       "  <tbody>\n",
       "    <tr>\n",
       "      <th>0</th>\n",
       "      <td>rumah murah hook tebet timur, tebet, jakarta selatan</td>\n",
       "      <td>3,800,000,000.00</td>\n",
       "      <td>220.00</td>\n",
       "      <td>220.00</td>\n",
       "      <td>3</td>\n",
       "      <td>3</td>\n",
       "      <td>0</td>\n",
       "    </tr>\n",
       "    <tr>\n",
       "      <th>1</th>\n",
       "      <td>rumah modern di tebet dekat stasiun, tebet, jakarta selatan</td>\n",
       "      <td>4,600,000,000.00</td>\n",
       "      <td>180.00</td>\n",
       "      <td>137.00</td>\n",
       "      <td>4</td>\n",
       "      <td>3</td>\n",
       "      <td>2</td>\n",
       "    </tr>\n",
       "    <tr>\n",
       "      <th>2</th>\n",
       "      <td>rumah mewah 2 lantai hanya 3 menit ke tebet, tebet, jakarta selatan</td>\n",
       "      <td>3,000,000,000.00</td>\n",
       "      <td>267.00</td>\n",
       "      <td>250.00</td>\n",
       "      <td>4</td>\n",
       "      <td>4</td>\n",
       "      <td>4</td>\n",
       "    </tr>\n",
       "  </tbody>\n",
       "</table>\n",
       "</div>"
      ],
      "text/plain": [
       "                                                           description  \\\n",
       "0                 rumah murah hook tebet timur, tebet, jakarta selatan   \n",
       "1          rumah modern di tebet dekat stasiun, tebet, jakarta selatan   \n",
       "2  rumah mewah 2 lantai hanya 3 menit ke tebet, tebet, jakarta selatan   \n",
       "\n",
       "             price  buildingArea  landArea  bedroom  bathroom  garage  \n",
       "0 3,800,000,000.00        220.00    220.00        3         3       0  \n",
       "1 4,600,000,000.00        180.00    137.00        4         3       2  \n",
       "2 3,000,000,000.00        267.00    250.00        4         4       4  "
      ]
     },
     "execution_count": 5,
     "metadata": {},
     "output_type": "execute_result"
    }
   ],
   "source": [
    "from sqlalchemy import create_engine\n",
    "import pandas as pd\n",
    "\n",
    "engine = create_engine('mysql+pymysql://root:@localhost:3306/housedb')\n",
    "query = 'select * from house'\n",
    "df = pd.read_sql(query, con=engine)\n",
    "\n",
    "\n",
    "pd.set_option('display.max_colwidth', None)\n",
    "pd.options.display.float_format = '{:,.2f}'.format\n",
    "\n",
    "df.head(3)"
   ]
  },
  {
   "cell_type": "markdown",
   "metadata": {},
   "source": [
    "Get data from excel file"
   ]
  },
  {
   "cell_type": "code",
   "execution_count": 4,
   "metadata": {},
   "outputs": [
    {
     "data": {
      "text/html": [
       "<div>\n",
       "<style scoped>\n",
       "    .dataframe tbody tr th:only-of-type {\n",
       "        vertical-align: middle;\n",
       "    }\n",
       "\n",
       "    .dataframe tbody tr th {\n",
       "        vertical-align: top;\n",
       "    }\n",
       "\n",
       "    .dataframe thead th {\n",
       "        text-align: right;\n",
       "    }\n",
       "</style>\n",
       "<table border=\"1\" class=\"dataframe\">\n",
       "  <thead>\n",
       "    <tr style=\"text-align: right;\">\n",
       "      <th></th>\n",
       "      <th>description</th>\n",
       "      <th>price</th>\n",
       "      <th>buildingArea</th>\n",
       "      <th>landArea</th>\n",
       "      <th>bedroom</th>\n",
       "      <th>bathroom</th>\n",
       "      <th>garage</th>\n",
       "    </tr>\n",
       "  </thead>\n",
       "  <tbody>\n",
       "    <tr>\n",
       "      <th>0</th>\n",
       "      <td>rumah murah hook tebet timur, tebet, jakarta selatan</td>\n",
       "      <td>3800000000</td>\n",
       "      <td>220</td>\n",
       "      <td>220</td>\n",
       "      <td>3</td>\n",
       "      <td>3</td>\n",
       "      <td>0</td>\n",
       "    </tr>\n",
       "    <tr>\n",
       "      <th>1</th>\n",
       "      <td>rumah modern di tebet dekat stasiun, tebet, jakarta selatan</td>\n",
       "      <td>4600000000</td>\n",
       "      <td>180</td>\n",
       "      <td>137</td>\n",
       "      <td>4</td>\n",
       "      <td>3</td>\n",
       "      <td>2</td>\n",
       "    </tr>\n",
       "    <tr>\n",
       "      <th>2</th>\n",
       "      <td>rumah mewah 2 lantai hanya 3 menit ke tebet, tebet, jakarta selatan</td>\n",
       "      <td>3000000000</td>\n",
       "      <td>267</td>\n",
       "      <td>250</td>\n",
       "      <td>4</td>\n",
       "      <td>4</td>\n",
       "      <td>4</td>\n",
       "    </tr>\n",
       "    <tr>\n",
       "      <th>3</th>\n",
       "      <td>rumah baru tebet, tebet, jakarta selatan</td>\n",
       "      <td>430000000</td>\n",
       "      <td>40</td>\n",
       "      <td>25</td>\n",
       "      <td>2</td>\n",
       "      <td>2</td>\n",
       "      <td>0</td>\n",
       "    </tr>\n",
       "    <tr>\n",
       "      <th>4</th>\n",
       "      <td>rumah bagus tebet komp gudang peluru lt 350m, tebet, jakarta selatan</td>\n",
       "      <td>9000000000</td>\n",
       "      <td>400</td>\n",
       "      <td>355</td>\n",
       "      <td>6</td>\n",
       "      <td>5</td>\n",
       "      <td>3</td>\n",
       "    </tr>\n",
       "  </tbody>\n",
       "</table>\n",
       "</div>"
      ],
      "text/plain": [
       "                                                            description  \\\n",
       "0                  rumah murah hook tebet timur, tebet, jakarta selatan   \n",
       "1           rumah modern di tebet dekat stasiun, tebet, jakarta selatan   \n",
       "2   rumah mewah 2 lantai hanya 3 menit ke tebet, tebet, jakarta selatan   \n",
       "3                              rumah baru tebet, tebet, jakarta selatan   \n",
       "4  rumah bagus tebet komp gudang peluru lt 350m, tebet, jakarta selatan   \n",
       "\n",
       "        price  buildingArea  landArea  bedroom  bathroom  garage  \n",
       "0  3800000000           220       220        3         3       0  \n",
       "1  4600000000           180       137        4         3       2  \n",
       "2  3000000000           267       250        4         4       4  \n",
       "3   430000000            40        25        2         2       0  \n",
       "4  9000000000           400       355        6         5       3  "
      ]
     },
     "execution_count": 4,
     "metadata": {},
     "output_type": "execute_result"
    }
   ],
   "source": [
    "import pandas as pd\n",
    "\n",
    "dataset = pd.read_excel('dataset/house_clean.xlsx')\n",
    "\n",
    "\n",
    "pd.set_option('display.max_colwidth', None)\n",
    "dataset.head()"
   ]
  },
  {
   "cell_type": "markdown",
   "metadata": {},
   "source": [
    "## Describe data"
   ]
  },
  {
   "cell_type": "code",
   "execution_count": 3,
   "metadata": {},
   "outputs": [
    {
     "data": {
      "text/html": [
       "<div>\n",
       "<style scoped>\n",
       "    .dataframe tbody tr th:only-of-type {\n",
       "        vertical-align: middle;\n",
       "    }\n",
       "\n",
       "    .dataframe tbody tr th {\n",
       "        vertical-align: top;\n",
       "    }\n",
       "\n",
       "    .dataframe thead th {\n",
       "        text-align: right;\n",
       "    }\n",
       "</style>\n",
       "<table border=\"1\" class=\"dataframe\">\n",
       "  <thead>\n",
       "    <tr style=\"text-align: right;\">\n",
       "      <th></th>\n",
       "      <th>buildingArea</th>\n",
       "      <th>landArea</th>\n",
       "      <th>bedroom</th>\n",
       "      <th>bathroom</th>\n",
       "      <th>garage</th>\n",
       "      <th>price</th>\n",
       "    </tr>\n",
       "  </thead>\n",
       "  <tbody>\n",
       "    <tr>\n",
       "      <th>count</th>\n",
       "      <td>1,008.00</td>\n",
       "      <td>1,008.00</td>\n",
       "      <td>1,008.00</td>\n",
       "      <td>1,008.00</td>\n",
       "      <td>1,008.00</td>\n",
       "      <td>1,008.00</td>\n",
       "    </tr>\n",
       "    <tr>\n",
       "      <th>mean</th>\n",
       "      <td>276.75</td>\n",
       "      <td>237.53</td>\n",
       "      <td>4.67</td>\n",
       "      <td>3.61</td>\n",
       "      <td>1.92</td>\n",
       "      <td>7,636,187,390.08</td>\n",
       "    </tr>\n",
       "    <tr>\n",
       "      <th>std</th>\n",
       "      <td>177.97</td>\n",
       "      <td>180.11</td>\n",
       "      <td>1.57</td>\n",
       "      <td>1.42</td>\n",
       "      <td>1.51</td>\n",
       "      <td>7,346,448,594.96</td>\n",
       "    </tr>\n",
       "    <tr>\n",
       "      <th>min</th>\n",
       "      <td>40.00</td>\n",
       "      <td>25.00</td>\n",
       "      <td>2.00</td>\n",
       "      <td>1.00</td>\n",
       "      <td>0.00</td>\n",
       "      <td>430,000,000.00</td>\n",
       "    </tr>\n",
       "    <tr>\n",
       "      <th>25%</th>\n",
       "      <td>150.00</td>\n",
       "      <td>130.00</td>\n",
       "      <td>4.00</td>\n",
       "      <td>3.00</td>\n",
       "      <td>1.00</td>\n",
       "      <td>3,250,000,000.00</td>\n",
       "    </tr>\n",
       "    <tr>\n",
       "      <th>50%</th>\n",
       "      <td>217.50</td>\n",
       "      <td>165.00</td>\n",
       "      <td>4.00</td>\n",
       "      <td>3.00</td>\n",
       "      <td>2.00</td>\n",
       "      <td>5,000,000,000.00</td>\n",
       "    </tr>\n",
       "    <tr>\n",
       "      <th>75%</th>\n",
       "      <td>350.00</td>\n",
       "      <td>292.50</td>\n",
       "      <td>5.00</td>\n",
       "      <td>4.00</td>\n",
       "      <td>2.00</td>\n",
       "      <td>9,000,000,000.00</td>\n",
       "    </tr>\n",
       "    <tr>\n",
       "      <th>max</th>\n",
       "      <td>1,126.00</td>\n",
       "      <td>1,400.00</td>\n",
       "      <td>10.00</td>\n",
       "      <td>10.00</td>\n",
       "      <td>10.00</td>\n",
       "      <td>65,000,000,000.00</td>\n",
       "    </tr>\n",
       "  </tbody>\n",
       "</table>\n",
       "</div>"
      ],
      "text/plain": [
       "       buildingArea  landArea  bedroom  bathroom   garage             price\n",
       "count      1,008.00  1,008.00 1,008.00  1,008.00 1,008.00          1,008.00\n",
       "mean         276.75    237.53     4.67      3.61     1.92  7,636,187,390.08\n",
       "std          177.97    180.11     1.57      1.42     1.51  7,346,448,594.96\n",
       "min           40.00     25.00     2.00      1.00     0.00    430,000,000.00\n",
       "25%          150.00    130.00     4.00      3.00     1.00  3,250,000,000.00\n",
       "50%          217.50    165.00     4.00      3.00     2.00  5,000,000,000.00\n",
       "75%          350.00    292.50     5.00      4.00     2.00  9,000,000,000.00\n",
       "max        1,126.00  1,400.00    10.00     10.00    10.00 65,000,000,000.00"
      ]
     },
     "execution_count": 3,
     "metadata": {},
     "output_type": "execute_result"
    }
   ],
   "source": [
    "df_describe = df[['buildingArea', 'landArea', 'bedroom', 'bathroom', 'garage', 'price']].describe()\n",
    "\n",
    "df_describe"
   ]
  },
  {
   "cell_type": "markdown",
   "metadata": {},
   "source": [
    "## Distribute"
   ]
  },
  {
   "cell_type": "code",
   "execution_count": 28,
   "metadata": {},
   "outputs": [
    {
     "data": {
      "text/html": [
       "<div>\n",
       "<style scoped>\n",
       "    .dataframe tbody tr th:only-of-type {\n",
       "        vertical-align: middle;\n",
       "    }\n",
       "\n",
       "    .dataframe tbody tr th {\n",
       "        vertical-align: top;\n",
       "    }\n",
       "\n",
       "    .dataframe thead th {\n",
       "        text-align: right;\n",
       "    }\n",
       "</style>\n",
       "<table border=\"1\" class=\"dataframe\">\n",
       "  <thead>\n",
       "    <tr style=\"text-align: right;\">\n",
       "      <th></th>\n",
       "      <th>price</th>\n",
       "      <th>count</th>\n",
       "    </tr>\n",
       "  </thead>\n",
       "  <tbody>\n",
       "    <tr>\n",
       "      <th>0</th>\n",
       "      <td>3,500,000,000.00</td>\n",
       "      <td>50</td>\n",
       "    </tr>\n",
       "    <tr>\n",
       "      <th>2</th>\n",
       "      <td>6,500,000,000.00</td>\n",
       "      <td>30</td>\n",
       "    </tr>\n",
       "    <tr>\n",
       "      <th>1</th>\n",
       "      <td>3,000,000,000.00</td>\n",
       "      <td>30</td>\n",
       "    </tr>\n",
       "    <tr>\n",
       "      <th>3</th>\n",
       "      <td>4,000,000,000.00</td>\n",
       "      <td>29</td>\n",
       "    </tr>\n",
       "    <tr>\n",
       "      <th>4</th>\n",
       "      <td>5,500,000,000.00</td>\n",
       "      <td>25</td>\n",
       "    </tr>\n",
       "  </tbody>\n",
       "</table>\n",
       "</div>"
      ],
      "text/plain": [
       "             price  count\n",
       "0 3,500,000,000.00     50\n",
       "2 6,500,000,000.00     30\n",
       "1 3,000,000,000.00     30\n",
       "3 4,000,000,000.00     29\n",
       "4 5,500,000,000.00     25"
      ]
     },
     "execution_count": 28,
     "metadata": {},
     "output_type": "execute_result"
    }
   ],
   "source": [
    "distribute = df['price'].value_counts().reset_index(name='count')\n",
    "distribute.sort_values(by= 'count', ascending=False).head()"
   ]
  },
  {
   "cell_type": "code",
   "execution_count": 18,
   "metadata": {},
   "outputs": [
    {
     "data": {
      "image/png": "[encoded data removed]",
      "text/plain": [
       "<Figure size 640x480 with 1 Axes>"
      ]
     },
     "metadata": {},
     "output_type": "display_data"
    }
   ],
   "source": [
    "import matplotlib.pyplot as plt\n",
    "\n",
    "bedroom_count = df['bedroom'].value_counts().sort_index()\n",
    "\n",
    "colors = ['red', 'blue', 'green']\n",
    "ax = bedroom_count.plot(kind='bar', color=colors)\n",
    "plt.title('Distribute Based on Bedroom')\n",
    "plt.xlabel('Bedroom')\n",
    "plt.ylabel('Total House')\n",
    "\n",
    "\n",
    "for i, value in enumerate(bedroom_count):\n",
    "    plt.text(i, value + 0.5, str(value), ha='center', va = 'bottom')\n",
    "plt.show()"
   ]
  },
  {
   "cell_type": "code",
   "execution_count": 41,
   "metadata": {},
   "outputs": [
    {
     "data": {
      "image/png": "[encoded data removed]",
      "text/plain": [
       "<Figure size 640x480 with 1 Axes>"
      ]
     },
     "metadata": {},
     "output_type": "display_data"
    }
   ],
   "source": [
    "# Histogram of price distribute\n",
    "import matplotlib.pyplot as plt\n",
    "\n",
    "n, bins, patches = plt.hist(df['price'], bins=[0,  5000000000, 10000000000, 15000000000, 20000000000, 30000000000, 40000000000, 50000000000, 60000000000,70000000000], edgecolor='blue')\n",
    "\n",
    "plt.title('Distribute Price House')\n",
    "plt.xlabel('Price')\n",
    "plt.ylabel('Frekuensi')\n",
    "\n",
    "plt.xticks([0, 5000000000, 10000000000, 15000000000, 20000000000, 30000000000, 40000000000, 50000000000, 60000000000, 70000000000],\n",
    "           ['0M - 5M', '5M - 10M', '10M - 15M', '15M - 20M', '20M - 30M', '30M - 40M', '40M - 50M', '50M-60M', '60M - 70M', 'Above 70M'], )\n",
    "plt.xticks(rotation=45)\n",
    "\n",
    "for i in range(len(n)):\n",
    "    plt.text(bins[i] + (bins[i+1] - bins[i])/2, n[i] + 10, str(int(n[i])), ha='center')\n",
    "\n",
    "\n",
    "plt.show()"
   ]
  },
  {
   "cell_type": "markdown",
   "metadata": {},
   "source": [
    "## Filtering"
   ]
  },
  {
   "cell_type": "markdown",
   "metadata": {},
   "source": [
    "Filtering price betwees 0 - 1000000000"
   ]
  },
  {
   "cell_type": "code",
   "execution_count": 40,
   "metadata": {},
   "outputs": [
    {
     "data": {
      "text/html": [
       "<div>\n",
       "<style scoped>\n",
       "    .dataframe tbody tr th:only-of-type {\n",
       "        vertical-align: middle;\n",
       "    }\n",
       "\n",
       "    .dataframe tbody tr th {\n",
       "        vertical-align: top;\n",
       "    }\n",
       "\n",
       "    .dataframe thead th {\n",
       "        text-align: right;\n",
       "    }\n",
       "</style>\n",
       "<table border=\"1\" class=\"dataframe\">\n",
       "  <thead>\n",
       "    <tr style=\"text-align: right;\">\n",
       "      <th></th>\n",
       "      <th>description</th>\n",
       "      <th>price</th>\n",
       "      <th>buildingArea</th>\n",
       "      <th>landArea</th>\n",
       "      <th>bedroom</th>\n",
       "      <th>bathroom</th>\n",
       "      <th>garage</th>\n",
       "    </tr>\n",
       "  </thead>\n",
       "  <tbody>\n",
       "    <tr>\n",
       "      <th>3</th>\n",
       "      <td>rumah baru tebet, tebet, jakarta selatan</td>\n",
       "      <td>430,000,000.00</td>\n",
       "      <td>40.00</td>\n",
       "      <td>25.00</td>\n",
       "      <td>2</td>\n",
       "      <td>2</td>\n",
       "      <td>0</td>\n",
       "    </tr>\n",
       "    <tr>\n",
       "      <th>679</th>\n",
       "      <td>rumah murah 2 lantai tebet</td>\n",
       "      <td>600,000,000.00</td>\n",
       "      <td>60.00</td>\n",
       "      <td>30.00</td>\n",
       "      <td>2</td>\n",
       "      <td>1</td>\n",
       "      <td>0</td>\n",
       "    </tr>\n",
       "    <tr>\n",
       "      <th>1002</th>\n",
       "      <td>rumah 2lantai akses 2mobil di bukit duri tebet jaksel</td>\n",
       "      <td>600,000,000.00</td>\n",
       "      <td>60.00</td>\n",
       "      <td>30.00</td>\n",
       "      <td>2</td>\n",
       "      <td>2</td>\n",
       "      <td>0</td>\n",
       "    </tr>\n",
       "    <tr>\n",
       "      <th>920</th>\n",
       "      <td>rumah seken di asem baris dekat st. cawang</td>\n",
       "      <td>650,000,000.00</td>\n",
       "      <td>50.00</td>\n",
       "      <td>55.00</td>\n",
       "      <td>2</td>\n",
       "      <td>1</td>\n",
       "      <td>0</td>\n",
       "    </tr>\n",
       "    <tr>\n",
       "      <th>204</th>\n",
       "      <td>rumah murah siap huni di jl. palbatu iii tebet</td>\n",
       "      <td>690,000,000.00</td>\n",
       "      <td>90.00</td>\n",
       "      <td>50.00</td>\n",
       "      <td>3</td>\n",
       "      <td>1</td>\n",
       "      <td>0</td>\n",
       "    </tr>\n",
       "  </tbody>\n",
       "</table>\n",
       "</div>"
      ],
      "text/plain": [
       "                                                description          price  \\\n",
       "3                  rumah baru tebet, tebet, jakarta selatan 430,000,000.00   \n",
       "679                              rumah murah 2 lantai tebet 600,000,000.00   \n",
       "1002  rumah 2lantai akses 2mobil di bukit duri tebet jaksel 600,000,000.00   \n",
       "920              rumah seken di asem baris dekat st. cawang 650,000,000.00   \n",
       "204          rumah murah siap huni di jl. palbatu iii tebet 690,000,000.00   \n",
       "\n",
       "      buildingArea  landArea  bedroom  bathroom  garage  \n",
       "3            40.00     25.00        2         2       0  \n",
       "679          60.00     30.00        2         1       0  \n",
       "1002         60.00     30.00        2         2       0  \n",
       "920          50.00     55.00        2         1       0  \n",
       "204          90.00     50.00        3         1       0  "
      ]
     },
     "execution_count": 40,
     "metadata": {},
     "output_type": "execute_result"
    }
   ],
   "source": [
    "df_bedroom = df[(df['price'] >= 0) & (df['price'] <= 1000000000) ]\n",
    "df_bedroom.sort_values(by='price', ascending=True).head()"
   ]
  },
  {
   "cell_type": "markdown",
   "metadata": {},
   "source": [
    "Dercribe price of house with 2 bedroom"
   ]
  },
  {
   "cell_type": "code",
   "execution_count": 37,
   "metadata": {},
   "outputs": [
    {
     "name": "stdout",
     "output_type": "stream",
     "text": [
      "average price 2 bedroom: 2,043,978,483.87\n",
      "Max price 2 bedroom: 5000000000.0\n",
      "Min price 2 Bedroom: 430000000.0\n"
     ]
    }
   ],
   "source": [
    "df_badroom_mean = df.groupby('bedroom')['price'].mean()\n",
    "print(f'average price 2 bedroom: {df_badroom_mean[2]:,.2f}')\n",
    "\n",
    "max_per_bed = df.groupby('bedroom')['price'].max()\n",
    "print(f\"Max price 2 bedroom: {max_per_bed[2]}\")\n",
    "\n",
    "min_per_bed = df.groupby('bedroom')['price'].min()\n",
    "print(f'Min price 2 Bedroom: {min_per_bed[2]}')\n"
   ]
  }
 ],
 "metadata": {
  "kernelspec": {
   "display_name": "Python 3",
   "language": "python",
   "name": "python3"
  },
  "language_info": {
   "codemirror_mode": {
    "name": "ipython",
    "version": 3
   },
   "file_extension": ".py",
   "mimetype": "text/x-python",
   "name": "python",
   "nbconvert_exporter": "python",
   "pygments_lexer": "ipython3",
   "version": "3.11.5"
  }
 },
 "nbformat": 4,
 "nbformat_minor": 2
}
