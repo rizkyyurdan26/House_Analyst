{
 "cells": [
  {
   "cell_type": "markdown",
   "metadata": {},
   "source": [
    "# Exploratory Data\n",
    "\n",
    "1. Correlation\n",
    "2. Check multikolinearity\n",
    "3. Regression "
   ]
  },
  {
   "cell_type": "markdown",
   "metadata": {},
   "source": [
    "Get data from dataframe"
   ]
  },
  {
   "cell_type": "code",
   "execution_count": 1,
   "metadata": {},
   "outputs": [
    {
     "data": {
      "text/html": [
       "<div>\n",
       "<style scoped>\n",
       "    .dataframe tbody tr th:only-of-type {\n",
       "        vertical-align: middle;\n",
       "    }\n",
       "\n",
       "    .dataframe tbody tr th {\n",
       "        vertical-align: top;\n",
       "    }\n",
       "\n",
       "    .dataframe thead th {\n",
       "        text-align: right;\n",
       "    }\n",
       "</style>\n",
       "<table border=\"1\" class=\"dataframe\">\n",
       "  <thead>\n",
       "    <tr style=\"text-align: right;\">\n",
       "      <th></th>\n",
       "      <th>description</th>\n",
       "      <th>price</th>\n",
       "      <th>buildingArea</th>\n",
       "      <th>landArea</th>\n",
       "      <th>bedroom</th>\n",
       "      <th>bathroom</th>\n",
       "      <th>garage</th>\n",
       "    </tr>\n",
       "  </thead>\n",
       "  <tbody>\n",
       "    <tr>\n",
       "      <th>0</th>\n",
       "      <td>rumah murah hook tebet timur, tebet, jakarta selatan</td>\n",
       "      <td>3800000000</td>\n",
       "      <td>220</td>\n",
       "      <td>220</td>\n",
       "      <td>3</td>\n",
       "      <td>3</td>\n",
       "      <td>0</td>\n",
       "    </tr>\n",
       "    <tr>\n",
       "      <th>1</th>\n",
       "      <td>rumah modern di tebet dekat stasiun, tebet, jakarta selatan</td>\n",
       "      <td>4600000000</td>\n",
       "      <td>180</td>\n",
       "      <td>137</td>\n",
       "      <td>4</td>\n",
       "      <td>3</td>\n",
       "      <td>2</td>\n",
       "    </tr>\n",
       "    <tr>\n",
       "      <th>2</th>\n",
       "      <td>rumah mewah 2 lantai hanya 3 menit ke tebet, tebet, jakarta selatan</td>\n",
       "      <td>3000000000</td>\n",
       "      <td>267</td>\n",
       "      <td>250</td>\n",
       "      <td>4</td>\n",
       "      <td>4</td>\n",
       "      <td>4</td>\n",
       "    </tr>\n",
       "    <tr>\n",
       "      <th>3</th>\n",
       "      <td>rumah baru tebet, tebet, jakarta selatan</td>\n",
       "      <td>430000000</td>\n",
       "      <td>40</td>\n",
       "      <td>25</td>\n",
       "      <td>2</td>\n",
       "      <td>2</td>\n",
       "      <td>0</td>\n",
       "    </tr>\n",
       "    <tr>\n",
       "      <th>4</th>\n",
       "      <td>rumah bagus tebet komp gudang peluru lt 350m, tebet, jakarta selatan</td>\n",
       "      <td>9000000000</td>\n",
       "      <td>400</td>\n",
       "      <td>355</td>\n",
       "      <td>6</td>\n",
       "      <td>5</td>\n",
       "      <td>3</td>\n",
       "    </tr>\n",
       "  </tbody>\n",
       "</table>\n",
       "</div>"
      ],
      "text/plain": [
       "                                                            description  \\\n",
       "0                  rumah murah hook tebet timur, tebet, jakarta selatan   \n",
       "1           rumah modern di tebet dekat stasiun, tebet, jakarta selatan   \n",
       "2   rumah mewah 2 lantai hanya 3 menit ke tebet, tebet, jakarta selatan   \n",
       "3                              rumah baru tebet, tebet, jakarta selatan   \n",
       "4  rumah bagus tebet komp gudang peluru lt 350m, tebet, jakarta selatan   \n",
       "\n",
       "        price  buildingArea  landArea  bedroom  bathroom  garage  \n",
       "0  3800000000           220       220        3         3       0  \n",
       "1  4600000000           180       137        4         3       2  \n",
       "2  3000000000           267       250        4         4       4  \n",
       "3   430000000            40        25        2         2       0  \n",
       "4  9000000000           400       355        6         5       3  "
      ]
     },
     "execution_count": 1,
     "metadata": {},
     "output_type": "execute_result"
    }
   ],
   "source": [
    "import pandas as pd\n",
    "\n",
    "df = pd.read_excel('dataset/house_clean.xlsx')\n",
    "\n",
    "pd.set_option('display.max_colwidth', None)\n",
    "\n",
    "df.head()"
   ]
  },
  {
   "cell_type": "markdown",
   "metadata": {},
   "source": [
    "## 1. Corelation"
   ]
  },
  {
   "cell_type": "code",
   "execution_count": 2,
   "metadata": {},
   "outputs": [
    {
     "name": "stdout",
     "output_type": "stream",
     "text": [
      "Correlation between each feature and price:\n",
      "buildingArea    0.746964\n",
      "landArea        0.809649\n",
      "bedroom         0.322879\n",
      "bathroom        0.404795\n",
      "garage          0.484590\n",
      "Name: price, dtype: float64\n"
     ]
    }
   ],
   "source": [
    "print('Correlation between each feature and price:')\n",
    "\n",
    "correlation = df[['price', 'buildingArea', 'landArea', 'bedroom', 'bathroom', 'garage']].corr()\n",
    "print(correlation['price'].drop('price'))\n"
   ]
  },
  {
   "cell_type": "code",
   "execution_count": 3,
   "metadata": {},
   "outputs": [
    {
     "data": {
      "image/png": "[encoded data removed]",
      "text/plain": [
       "<Figure size 600x400 with 2 Axes>"
      ]
     },
     "metadata": {},
     "output_type": "display_data"
    }
   ],
   "source": [
    "import seaborn as sns\n",
    "import matplotlib.pyplot as plt\n",
    "\n",
    "plt.figure(figsize=(6,4))\n",
    "sns.heatmap(correlation, annot=True, cmap='coolwarm', fmt=\".2f\")\n",
    "plt.title('Correlation Between Variables')\n",
    "plt.tight_layout()\n",
    "plt.show()\n"
   ]
  },
  {
   "cell_type": "code",
   "execution_count": 4,
   "metadata": {},
   "outputs": [
    {
     "name": "stdout",
     "output_type": "stream",
     "text": [
      "r table (n=1008, α=0.05): 0.0618\n"
     ]
    }
   ],
   "source": [
    "from scipy.stats import t\n",
    "\n",
    "# Parameter\n",
    "alpha = 0.05\n",
    "n = df.shape[0]\n",
    "data = n - 2\n",
    "\n",
    "t_critical = t.ppf(1 - alpha/2, data)\n",
    "\n",
    "r_table = t_critical / ((t_critical**2 + data)**0.5)\n",
    "print(f\"r table (n={n}, α={alpha}): {r_table:.4f}\")\n"
   ]
  },
  {
   "cell_type": "markdown",
   "metadata": {},
   "source": [
    "## 2. Multikolinearity and Outlier"
   ]
  },
  {
   "cell_type": "code",
   "execution_count": 5,
   "metadata": {},
   "outputs": [
    {
     "data": {
      "text/html": [
       "<div>\n",
       "<style scoped>\n",
       "    .dataframe tbody tr th:only-of-type {\n",
       "        vertical-align: middle;\n",
       "    }\n",
       "\n",
       "    .dataframe tbody tr th {\n",
       "        vertical-align: top;\n",
       "    }\n",
       "\n",
       "    .dataframe thead th {\n",
       "        text-align: right;\n",
       "    }\n",
       "</style>\n",
       "<table border=\"1\" class=\"dataframe\">\n",
       "  <thead>\n",
       "    <tr style=\"text-align: right;\">\n",
       "      <th></th>\n",
       "      <th>Feature</th>\n",
       "      <th>VIF</th>\n",
       "    </tr>\n",
       "  </thead>\n",
       "  <tbody>\n",
       "    <tr>\n",
       "      <th>0</th>\n",
       "      <td>const</td>\n",
       "      <td>10.511813</td>\n",
       "    </tr>\n",
       "    <tr>\n",
       "      <th>1</th>\n",
       "      <td>buildingArea</td>\n",
       "      <td>2.693621</td>\n",
       "    </tr>\n",
       "    <tr>\n",
       "      <th>2</th>\n",
       "      <td>landArea</td>\n",
       "      <td>2.412484</td>\n",
       "    </tr>\n",
       "    <tr>\n",
       "      <th>3</th>\n",
       "      <td>bedroom</td>\n",
       "      <td>1.927036</td>\n",
       "    </tr>\n",
       "    <tr>\n",
       "      <th>4</th>\n",
       "      <td>bathroom</td>\n",
       "      <td>2.123713</td>\n",
       "    </tr>\n",
       "    <tr>\n",
       "      <th>5</th>\n",
       "      <td>garage</td>\n",
       "      <td>1.397678</td>\n",
       "    </tr>\n",
       "  </tbody>\n",
       "</table>\n",
       "</div>"
      ],
      "text/plain": [
       "        Feature        VIF\n",
       "0         const  10.511813\n",
       "1  buildingArea   2.693621\n",
       "2      landArea   2.412484\n",
       "3       bedroom   1.927036\n",
       "4      bathroom   2.123713\n",
       "5        garage   1.397678"
      ]
     },
     "execution_count": 5,
     "metadata": {},
     "output_type": "execute_result"
    }
   ],
   "source": [
    "from statsmodels.stats.outliers_influence import variance_inflation_factor\n",
    "from statsmodels.tools.tools import add_constant\n",
    "\n",
    "multi = df[['buildingArea', 'landArea', 'bedroom', 'bathroom', 'garage']]\n",
    "\n",
    "const = add_constant(multi)\n",
    "\n",
    "vif = pd.DataFrame()\n",
    "vif['Feature'] = const.columns\n",
    "vif['VIF'] = [variance_inflation_factor(const.values, i) for i in range(const.shape[1])]\n",
    "\n",
    "vif"
   ]
  },
  {
   "cell_type": "code",
   "execution_count": 57,
   "metadata": {},
   "outputs": [
    {
     "name": "stdout",
     "output_type": "stream",
     "text": [
      "total outlier    : 94\n"
     ]
    }
   ],
   "source": [
    "def remove_outliers(df, columns):\n",
    "    df_filtered = df.copy()\n",
    "    for col in columns:\n",
    "        Q1 = df[col].quantile(0.25)\n",
    "        Q3 = df[col].quantile(0.75)\n",
    "        IQR = Q3 - Q1\n",
    "        lower = Q1 - 1.5 * IQR\n",
    "        upper = Q3 + 1.5 * IQR\n",
    "        df_filtered = df_filtered[(df_filtered[col] >= lower) & (df_filtered[col] <= upper)]\n",
    "    return df_filtered\n",
    "\n",
    "clean_df = remove_outliers(df, ['price'])\n",
    "\n",
    "print(f'total outlier    : {df.shape[0] - clean_df.shape[0]}')"
   ]
  },
  {
   "cell_type": "markdown",
   "metadata": {},
   "source": [
    "## 3. Regression"
   ]
  },
  {
   "cell_type": "code",
   "execution_count": 56,
   "metadata": {},
   "outputs": [
    {
     "name": "stdout",
     "output_type": "stream",
     "text": [
      "                            OLS Regression Results                            \n",
      "==============================================================================\n",
      "Dep. Variable:                  price   R-squared:                       0.704\n",
      "Model:                            OLS   Adj. R-squared:                  0.703\n",
      "Method:                 Least Squares   F-statistic:                     1193.\n",
      "Date:                Mon, 07 Apr 2025   Prob (F-statistic):          3.78e-266\n",
      "Time:                        11:03:13   Log-Likelihood:                -23716.\n",
      "No. Observations:                1008   AIC:                         4.744e+04\n",
      "Df Residuals:                    1005   BIC:                         4.745e+04\n",
      "Df Model:                           2                                         \n",
      "Covariance Type:            nonrobust                                         \n",
      "================================================================================\n",
      "                   coef    std err          t      P>|t|      [0.025      0.975]\n",
      "--------------------------------------------------------------------------------\n",
      "const        -1.595e+09   2.35e+08     -6.780      0.000   -2.06e+09   -1.13e+09\n",
      "buildingArea  1.347e+07   1.05e+06     12.775      0.000    1.14e+07    1.55e+07\n",
      "landArea      2.317e+07   1.04e+06     22.229      0.000    2.11e+07    2.52e+07\n",
      "==============================================================================\n",
      "Omnibus:                      921.053   Durbin-Watson:                   1.944\n",
      "Prob(Omnibus):                  0.000   Jarque-Bera (JB):           104360.204\n",
      "Skew:                           3.693   Prob(JB):                         0.00\n",
      "Kurtosis:                      52.297   Cond. No.                         810.\n",
      "==============================================================================\n",
      "\n",
      "Notes:\n",
      "[1] Standard Errors assume that the covariance matrix of the errors is correctly specified.\n"
     ]
    }
   ],
   "source": [
    "import statsmodels.api as sm\n",
    "\n",
    "X1 =  df[['buildingArea', 'landArea']]\n",
    "y = df['price']\n",
    "\n",
    "X_model1 = sm.add_constant(X1)\n",
    "model1 = sm.OLS(y, X_model1).fit()\n",
    "print(model1.summary())"
   ]
  }
 ],
 "metadata": {
  "kernelspec": {
   "display_name": "Python 3",
   "language": "python",
   "name": "python3"
  },
  "language_info": {
   "codemirror_mode": {
    "name": "ipython",
    "version": 3
   },
   "file_extension": ".py",
   "mimetype": "text/x-python",
   "name": "python",
   "nbconvert_exporter": "python",
   "pygments_lexer": "ipython3",
   "version": "3.11.5"
  }
 },
 "nbformat": 4,
 "nbformat_minor": 2
}
